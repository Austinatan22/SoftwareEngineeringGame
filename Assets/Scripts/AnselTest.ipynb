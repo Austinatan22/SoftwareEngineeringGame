{
 "cells": [
  {
   "cell_type": "code",
   "execution_count": null,
   "metadata": {},
   "outputs": [
    {
     "ename": "",
     "evalue": "",
     "output_type": "error",
     "traceback": [
      "\u001b[1;31mRunning cells with 'Python 3.10.10' requires the ipykernel package.\n",
      "\u001b[1;31mRun the following command to install 'ipykernel' into the Python environment. \n",
      "\u001b[1;31mCommand: 'c:/msys64/mingw64/bin/python.exe -m pip install ipykernel -U --user --force-reinstall'"
     ]
    }
   ],
   "source": [
    "%pip install cv2"
   ]
  },
  {
   "cell_type": "code",
   "execution_count": null,
   "metadata": {},
   "outputs": [
    {
     "ename": "",
     "evalue": "",
     "output_type": "error",
     "traceback": [
      "\u001b[1;31mRunning cells with 'Python 3.10.10' requires the ipykernel package.\n",
      "\u001b[1;31mRun the following command to install 'ipykernel' into the Python environment. \n",
      "\u001b[1;31mCommand: 'c:/msys64/mingw64/bin/python.exe -m pip install ipykernel -U --user --force-reinstall'"
     ]
    }
   ],
   "source": [
    "import cv2\n",
    "import numpy as np\n",
    "import os\n",
    "from tqdm import tqdm\n",
    "\n",
    "\n",
    "def Create_Folder_Images(name, directory, tn):\n",
    "    # Creating directory in the file\n",
    "    if not os.path.exists(directory):\n",
    "        os.makedirs(directory)\n",
    "    else:\n",
    "        print('DIRECTORY with name %s EXIST' % name)\n",
    "    \n",
    "    # Opening video mode with frontal face detector\n",
    "    faceDetect = cv2.CascadeClassifier(cv2.data.haarcascades + \"haarcascade_frontalface_default.xml\")\n",
    "    cam = cv2.VideoCapture(0)\n",
    "    size = (100, 100)\n",
    "\n",
    "    for i in tqdm(range(1, 1 + tn)):\n",
    "        ret, img = cam.read()\n",
    "        if ret:\n",
    "            gray = cv2.cvtColor(img, cv2.COLOR_BGR2GRAY)  # Convert to GRAY SCALE for face detection\n",
    "            faces = faceDetect.detectMultiScale(gray, 1.3, 5)\n",
    "\n",
    "            for (x, y, w, h) in faces:\n",
    "                # Resize the captured face and write the RGB image\n",
    "                res = cv2.resize(img[y:y+h, x:x+w], size, interpolation=cv2.INTER_AREA)\n",
    "                cv2.imwrite(os.path.join(directory, f'{name}_{i}.jpg'), res)  # Save RGB image\n",
    "\n",
    "                # Draw rectangle around the face\n",
    "                cv2.rectangle(img, (x, y), (x+w, y+h), (0, 255, 0), 2)\n",
    "                cv2.waitKey(200)\n",
    "\n",
    "            # Display the resulting frame\n",
    "            cv2.imshow('Dataset Creator', img)\n",
    "            cv2.waitKey(1)\n",
    "\n",
    "    # When everything done, release the capture\n",
    "    cam.release()\n",
    "    cv2.destroyAllWindows()\n",
    "    print('TASK COMPLETED')\n",
    "\n",
    "# Taking inputs\n",
    "name = input('\\nEnter your name: ')\n",
    "directory = 'Datasets/' + name\n",
    "tn = int(input('Enter no. of images to be taken: '))\n",
    "\n",
    "Create_Folder_Images(name, directory, tn)"
   ]
  }
 ],
 "metadata": {
  "kernelspec": {
   "display_name": "Python 3",
   "language": "python",
   "name": "python3"
  },
  "language_info": {
   "name": "python",
   "version": "3.10.10"
  }
 },
 "nbformat": 4,
 "nbformat_minor": 2
}
